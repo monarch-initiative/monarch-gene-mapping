{
 "cells": [
  {
   "cell_type": "code",
   "execution_count": 11,
   "id": "4f2376d9",
   "metadata": {},
   "outputs": [
    {
     "data": {
      "text/plain": [
       "\"# Chemical\\nMESH -> CHEBI\\n\\n# Disease\\nOMIM -> MONDO\\n\\n# Genes\\nNCBIGene -> HGNC\\nNCBIGene -> RGD\\nNCBIGene -> MGI\\nNCBIGene -> ZFIN\\nNCBIGene -> XenBase\\nNCBIGene -> FB\\nNCGIGene -> WB\\nNCBIGene -> dictyBase\\nNCBIGene -> PomBase\\nOMIM -> HGNC\\n\\n# These genes depend on why panther only uses ENSEMBL ids sometimes, maybe these can't be mapped?\\nENSEMBL:ENSDARG -> ZFIN \\nENSEMBL:ENSGALG -> NCBIGene\\nENSEMBL:ENSMUSG -> MGI \\nENSEMBL:ENSRNOG -> RGD\""
      ]
     },
     "execution_count": 11,
     "metadata": {},
     "output_type": "execute_result"
    }
   ],
   "source": [
    "\"\"\"# Chemical\n",
    "MESH -> CHEBI\n",
    "\n",
    "# Disease\n",
    "OMIM -> MONDO\n",
    "\n",
    "# Genes\n",
    "NCBIGene -> HGNC\n",
    "NCBIGene -> RGD\n",
    "NCBIGene -> MGI\n",
    "NCBIGene -> ZFIN\n",
    "NCBIGene -> XenBase\n",
    "NCBIGene -> FB\n",
    "NCGIGene -> WB\n",
    "NCBIGene -> dictyBase\n",
    "NCBIGene -> PomBase\n",
    "OMIM -> HGNC\n",
    "\n",
    "# These genes depend on why panther only uses ENSEMBL ids sometimes, maybe these can't be mapped?\n",
    "ENSEMBL:ENSDARG -> ZFIN\n",
    "ENSEMBL:ENSGALG -> NCBIGene\n",
    "ENSEMBL:ENSMUSG -> MGI\n",
    "ENSEMBL:ENSRNOG -> RGD\"\"\""
   ]
  },
  {
   "cell_type": "code",
   "execution_count": 37,
   "id": "2fa61386",
   "metadata": {},
   "outputs": [],
   "source": [
    "import json\n",
    "import pandas as pd"
   ]
  },
  {
   "cell_type": "code",
   "execution_count": 2,
   "id": "40e71b9d",
   "metadata": {},
   "outputs": [],
   "source": [
    "with open(\"./gene/mgiSample.BGI.json\", \"r\") as mgi_schema:\n",
    "    mgi_gene = json.load(mgi_schema)"
   ]
  },
  {
   "cell_type": "code",
   "execution_count": 5,
   "id": "949ed7b8",
   "metadata": {},
   "outputs": [
    {
     "data": {
      "text/plain": [
       "dict_keys(['basicGeneticEntity', 'name', 'soTermId', 'symbol'])"
      ]
     },
     "execution_count": 5,
     "metadata": {},
     "output_type": "execute_result"
    }
   ],
   "source": [
    "mgi_gene['data'][0].keys()"
   ]
  },
  {
   "cell_type": "code",
   "execution_count": 8,
   "id": "f9bf74cd",
   "metadata": {},
   "outputs": [
    {
     "name": "stdout",
     "output_type": "stream",
     "text": [
      "MGI:5695867\n"
     ]
    }
   ],
   "source": []
  },
  {
   "cell_type": "code",
   "execution_count": 24,
   "id": "87691e2e",
   "metadata": {},
   "outputs": [],
   "source": []
  },
  {
   "cell_type": "code",
   "execution_count": 51,
   "id": "b3202d45",
   "metadata": {},
   "outputs": [],
   "source": [
    "xref_urls = [\n",
    "     'https://fms.alliancegenome.org/download/BGI_MGI.json.gz',\n",
    "     'https://fms.alliancegenome.org/download/BGI_RGD.json.gz',\n",
    "     'https://fms.alliancegenome.org/download/BGI_ZFIN.json.gz',\n",
    "     'https://fms.alliancegenome.org/download/BGI_FB.json.gz',\n",
    "     'https://fms.alliancegenome.org/download/BGI_SGD.json.gz',\n",
    "     'https://fms.alliancegenome.org/download/BGI_WB.json.gz',\n",
    "     'https://fms.alliancegenome.org/download/BGI_XB.json.gz'\n",
    "]"
   ]
  },
  {
   "cell_type": "code",
   "execution_count": 52,
   "id": "0b044141",
   "metadata": {},
   "outputs": [],
   "source": [
    "file_names = [x.replace(\".gz\",\"\").split(\"/\")[-1] for x in xref_urls]"
   ]
  },
  {
   "cell_type": "code",
   "execution_count": 54,
   "id": "335a9e6d",
   "metadata": {},
   "outputs": [
    {
     "data": {
      "text/plain": [
       "['BGI_MGI.json',\n",
       " 'BGI_RGD.json',\n",
       " 'BGI_ZFIN.json',\n",
       " 'BGI_FB.json',\n",
       " 'BGI_SGD.json',\n",
       " 'BGI_WB.json',\n",
       " 'BGI_XB.json']"
      ]
     },
     "execution_count": 54,
     "metadata": {},
     "output_type": "execute_result"
    }
   ],
   "source": [
    "file_names"
   ]
  },
  {
   "cell_type": "code",
   "execution_count": 87,
   "id": "60916106",
   "metadata": {},
   "outputs": [],
   "source": [
    "data = []\n",
    "for fn in file_names:\n",
    "    with open(fn, \"r\") as gene_schema:\n",
    "        genes = json.load(gene_schema)\n",
    "        for index, gene in enumerate(genes['data']):\n",
    "            gene = gene['basicGeneticEntity']\n",
    "            xref = [x['id'].replace(\"NCBI_Gene\", \"NCBIGene\").replace(\"NCBI_GENE\", \"NCBIGene\") for x in gene['crossReferences'] if \"NCBI\" in x['id']]\n",
    "            prim_id = gene['primaryId'].replace(\"DRSC:XB:\",\"XB:\")\n",
    "            if len(xref):\n",
    "                ncbi_xref = xref[0]\n",
    "            else:\n",
    "                next\n",
    "            data.append({\n",
    "                \"subject_id\":ncbi_xref,\n",
    "                \"predicate_id\": \"skos:exactMatch\",\n",
    "                \"object_id\": prim_id\n",
    "            })\n"
   ]
  },
  {
   "cell_type": "code",
   "execution_count": 88,
   "id": "24b5c5cb",
   "metadata": {},
   "outputs": [],
   "source": [
    "gene_maps = pd.DataFrame(data)"
   ]
  },
  {
   "cell_type": "code",
   "execution_count": 90,
   "id": "6161fd88",
   "metadata": {},
   "outputs": [],
   "source": [
    "gene_maps['object_prefix'] = gene_maps['object_id'].apply(lambda x:x.split(\":\")[0])"
   ]
  },
  {
   "cell_type": "code",
   "execution_count": 93,
   "id": "c4751d8f",
   "metadata": {},
   "outputs": [
    {
     "data": {
      "text/plain": [
       "MGI     78326\n",
       "RGD     70623\n",
       "WB      48773\n",
       "XB      38760\n",
       "ZFIN    37592\n",
       "FB      30240\n",
       "SGD      7153\n",
       "Name: object_prefix, dtype: int64"
      ]
     },
     "execution_count": 93,
     "metadata": {},
     "output_type": "execute_result"
    }
   ],
   "source": [
    "gene_maps['object_prefix'].value_counts()"
   ]
  },
  {
   "cell_type": "code",
   "execution_count": 94,
   "id": "40312f96",
   "metadata": {},
   "outputs": [
    {
     "data": {
      "text/html": [
       "<div>\n",
       "<style scoped>\n",
       "    .dataframe tbody tr th:only-of-type {\n",
       "        vertical-align: middle;\n",
       "    }\n",
       "\n",
       "    .dataframe tbody tr th {\n",
       "        vertical-align: top;\n",
       "    }\n",
       "\n",
       "    .dataframe thead th {\n",
       "        text-align: right;\n",
       "    }\n",
       "</style>\n",
       "<table border=\"1\" class=\"dataframe\">\n",
       "  <thead>\n",
       "    <tr style=\"text-align: right;\">\n",
       "      <th></th>\n",
       "      <th>subject_id</th>\n",
       "      <th>predicate_id</th>\n",
       "      <th>object_id</th>\n",
       "      <th>object_prefix</th>\n",
       "    </tr>\n",
       "  </thead>\n",
       "  <tbody>\n",
       "    <tr>\n",
       "      <th>0</th>\n",
       "      <td>NCBIGene:12631</td>\n",
       "      <td>skos:exactMatch</td>\n",
       "      <td>MGI:101757</td>\n",
       "      <td>MGI</td>\n",
       "    </tr>\n",
       "    <tr>\n",
       "      <th>1</th>\n",
       "      <td>NCBIGene:18630</td>\n",
       "      <td>skos:exactMatch</td>\n",
       "      <td>MGI:101758</td>\n",
       "      <td>MGI</td>\n",
       "    </tr>\n",
       "    <tr>\n",
       "      <th>2</th>\n",
       "      <td>NCBIGene:20983</td>\n",
       "      <td>skos:exactMatch</td>\n",
       "      <td>MGI:101759</td>\n",
       "      <td>MGI</td>\n",
       "    </tr>\n",
       "    <tr>\n",
       "      <th>3</th>\n",
       "      <td>NCBIGene:231769</td>\n",
       "      <td>skos:exactMatch</td>\n",
       "      <td>MGI:101760</td>\n",
       "      <td>MGI</td>\n",
       "    </tr>\n",
       "    <tr>\n",
       "      <th>4</th>\n",
       "      <td>NCBIGene:15364</td>\n",
       "      <td>skos:exactMatch</td>\n",
       "      <td>MGI:101761</td>\n",
       "      <td>MGI</td>\n",
       "    </tr>\n",
       "    <tr>\n",
       "      <th>...</th>\n",
       "      <td>...</td>\n",
       "      <td>...</td>\n",
       "      <td>...</td>\n",
       "      <td>...</td>\n",
       "    </tr>\n",
       "    <tr>\n",
       "      <th>311462</th>\n",
       "      <td>NCBIGene:100498607</td>\n",
       "      <td>skos:exactMatch</td>\n",
       "      <td>XB:XB-GENE-25874555</td>\n",
       "      <td>XB</td>\n",
       "    </tr>\n",
       "    <tr>\n",
       "      <th>311463</th>\n",
       "      <td>NCBIGene:108716024</td>\n",
       "      <td>skos:exactMatch</td>\n",
       "      <td>XB:XB-GENE-25874556</td>\n",
       "      <td>XB</td>\n",
       "    </tr>\n",
       "    <tr>\n",
       "      <th>311464</th>\n",
       "      <td>NCBIGene:101733943</td>\n",
       "      <td>skos:exactMatch</td>\n",
       "      <td>XB:XB-GENE-25874657</td>\n",
       "      <td>XB</td>\n",
       "    </tr>\n",
       "    <tr>\n",
       "      <th>311465</th>\n",
       "      <td>NCBIGene:108707787</td>\n",
       "      <td>skos:exactMatch</td>\n",
       "      <td>XB:XB-GENE-25874658</td>\n",
       "      <td>XB</td>\n",
       "    </tr>\n",
       "    <tr>\n",
       "      <th>311466</th>\n",
       "      <td>NCBIGene:108709302</td>\n",
       "      <td>skos:exactMatch</td>\n",
       "      <td>XB:XB-GENE-25874673</td>\n",
       "      <td>XB</td>\n",
       "    </tr>\n",
       "  </tbody>\n",
       "</table>\n",
       "<p>311467 rows × 4 columns</p>\n",
       "</div>"
      ],
      "text/plain": [
       "                subject_id     predicate_id            object_id object_prefix\n",
       "0           NCBIGene:12631  skos:exactMatch           MGI:101757           MGI\n",
       "1           NCBIGene:18630  skos:exactMatch           MGI:101758           MGI\n",
       "2           NCBIGene:20983  skos:exactMatch           MGI:101759           MGI\n",
       "3          NCBIGene:231769  skos:exactMatch           MGI:101760           MGI\n",
       "4           NCBIGene:15364  skos:exactMatch           MGI:101761           MGI\n",
       "...                    ...              ...                  ...           ...\n",
       "311462  NCBIGene:100498607  skos:exactMatch  XB:XB-GENE-25874555            XB\n",
       "311463  NCBIGene:108716024  skos:exactMatch  XB:XB-GENE-25874556            XB\n",
       "311464  NCBIGene:101733943  skos:exactMatch  XB:XB-GENE-25874657            XB\n",
       "311465  NCBIGene:108707787  skos:exactMatch  XB:XB-GENE-25874658            XB\n",
       "311466  NCBIGene:108709302  skos:exactMatch  XB:XB-GENE-25874673            XB\n",
       "\n",
       "[311467 rows x 4 columns]"
      ]
     },
     "execution_count": 94,
     "metadata": {},
     "output_type": "execute_result"
    }
   ],
   "source": [
    "gene_maps"
   ]
  },
  {
   "cell_type": "code",
   "execution_count": 95,
   "id": "c04e3f34",
   "metadata": {},
   "outputs": [],
   "source": [
    "import requests"
   ]
  },
  {
   "cell_type": "code",
   "execution_count": 96,
   "id": "76b36521",
   "metadata": {},
   "outputs": [],
   "source": [
    "r = requests.get(\"https://www.genenames.org/cgi-bin/download/custom?col=gd_hgnc_id&col=gd_pub_eg_id&hgnc_dbtag=on&order_by=gd_app_sym_sort&format=text&submit=submit\")"
   ]
  },
  {
   "cell_type": "code",
   "execution_count": 103,
   "id": "09e5c573",
   "metadata": {},
   "outputs": [
    {
     "data": {
      "text/html": [
       "<div>\n",
       "<style scoped>\n",
       "    .dataframe tbody tr th:only-of-type {\n",
       "        vertical-align: middle;\n",
       "    }\n",
       "\n",
       "    .dataframe tbody tr th {\n",
       "        vertical-align: top;\n",
       "    }\n",
       "\n",
       "    .dataframe thead th {\n",
       "        text-align: right;\n",
       "    }\n",
       "</style>\n",
       "<table border=\"1\" class=\"dataframe\">\n",
       "  <thead>\n",
       "    <tr style=\"text-align: right;\">\n",
       "      <th></th>\n",
       "      <th>0</th>\n",
       "      <th>1</th>\n",
       "    </tr>\n",
       "  </thead>\n",
       "  <tbody>\n",
       "    <tr>\n",
       "      <th>0</th>\n",
       "      <td>HGNC ID</td>\n",
       "      <td>NCBI Gene ID</td>\n",
       "    </tr>\n",
       "    <tr>\n",
       "      <th>1</th>\n",
       "      <td>HGNC:5</td>\n",
       "      <td>1</td>\n",
       "    </tr>\n",
       "    <tr>\n",
       "      <th>2</th>\n",
       "      <td>HGNC:37133</td>\n",
       "      <td>503538</td>\n",
       "    </tr>\n",
       "    <tr>\n",
       "      <th>3</th>\n",
       "      <td>HGNC:24086</td>\n",
       "      <td>29974</td>\n",
       "    </tr>\n",
       "    <tr>\n",
       "      <th>4</th>\n",
       "      <td>HGNC:6</td>\n",
       "      <td></td>\n",
       "    </tr>\n",
       "    <tr>\n",
       "      <th>...</th>\n",
       "      <td>...</td>\n",
       "      <td>...</td>\n",
       "    </tr>\n",
       "    <tr>\n",
       "      <th>48300</th>\n",
       "      <td>HGNC:13200</td>\n",
       "      <td>7791</td>\n",
       "    </tr>\n",
       "    <tr>\n",
       "      <th>48301</th>\n",
       "      <td>HGNC:51695</td>\n",
       "      <td></td>\n",
       "    </tr>\n",
       "    <tr>\n",
       "      <th>48302</th>\n",
       "      <td>HGNC:29027</td>\n",
       "      <td>23140</td>\n",
       "    </tr>\n",
       "    <tr>\n",
       "      <th>48303</th>\n",
       "      <td>HGNC:24523</td>\n",
       "      <td>26009</td>\n",
       "    </tr>\n",
       "    <tr>\n",
       "      <th>48304</th>\n",
       "      <td></td>\n",
       "      <td>None</td>\n",
       "    </tr>\n",
       "  </tbody>\n",
       "</table>\n",
       "<p>48305 rows × 2 columns</p>\n",
       "</div>"
      ],
      "text/plain": [
       "                0             1\n",
       "0         HGNC ID  NCBI Gene ID\n",
       "1          HGNC:5             1\n",
       "2      HGNC:37133        503538\n",
       "3      HGNC:24086         29974\n",
       "4          HGNC:6              \n",
       "...           ...           ...\n",
       "48300  HGNC:13200          7791\n",
       "48301  HGNC:51695              \n",
       "48302  HGNC:29027         23140\n",
       "48303  HGNC:24523         26009\n",
       "48304                      None\n",
       "\n",
       "[48305 rows x 2 columns]"
      ]
     },
     "execution_count": 103,
     "metadata": {},
     "output_type": "execute_result"
    }
   ],
   "source": [
    "pd.DataFrame([x.split(\"\\t\") for x in r.text.split(\"\\n\")])"
   ]
  },
  {
   "cell_type": "code",
   "execution_count": null,
   "id": "9becbe42",
   "metadata": {},
   "outputs": [],
   "source": []
  }
 ],
 "metadata": {
  "kernelspec": {
   "display_name": "Python 3 (ipykernel)",
   "language": "python",
   "name": "python3"
  },
  "language_info": {
   "codemirror_mode": {
    "name": "ipython",
    "version": 3
   },
   "file_extension": ".py",
   "mimetype": "text/x-python",
   "name": "python",
   "nbconvert_exporter": "python",
   "pygments_lexer": "ipython3",
   "version": "3.9.7"
  }
 },
 "nbformat": 4,
 "nbformat_minor": 5
}